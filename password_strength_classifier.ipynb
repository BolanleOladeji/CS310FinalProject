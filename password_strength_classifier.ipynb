{
 "cells": [
  {
   "cell_type": "markdown",
   "source": [
    "### Name: Safal Shrestha and Bolanle Oladeji\n",
    "### Project: “That Password is too Easy to Guess”: A Comparison of Classification Algorithms for Password Strength Prediction"
   ],
   "metadata": {
    "collapsed": false
   }
  },
  {
   "cell_type": "markdown",
   "source": [
    "### Import libraries"
   ],
   "metadata": {
    "collapsed": false
   }
  },
  {
   "cell_type": "code",
   "execution_count": null,
   "outputs": [],
   "source": [
    "import pandas as pd\n",
    "import numpy as np\n",
    "import random\n",
    "from sklearn.feature_extraction.text import CountVectorizer\n",
    "from sklearn.feature_extraction.text import TfidfVectorizer\n",
    "from sklearn.model_selection import train_test_split\n",
    "from sklearn.ensemble import RandomForestClassifier"
   ],
   "metadata": {
    "collapsed": false
   }
  },
  {
   "cell_type": "markdown",
   "source": [
    "### Read in dataset"
   ],
   "metadata": {
    "collapsed": false
   }
  },
  {
   "cell_type": "code",
   "execution_count": 25,
   "outputs": [
    {
     "name": "stderr",
     "output_type": "stream",
     "text": [
      "/var/folders/ng/zh2dm1jd1tq2yswfx0d4j2700000gn/T/ipykernel_37466/1463674606.py:1: DtypeWarning: Columns (5) have mixed types. Specify dtype option on import or set low_memory=False.\n",
      "  password_data = pd.read_csv(\"data.csv\")\n",
      "/var/folders/ng/zh2dm1jd1tq2yswfx0d4j2700000gn/T/ipykernel_37466/1463674606.py:3: SettingWithCopyWarning: \n",
      "A value is trying to be set on a copy of a slice from a DataFrame\n",
      "\n",
      "See the caveats in the documentation: https://pandas.pydata.org/pandas-docs/stable/user_guide/indexing.html#returning-a-view-versus-a-copy\n",
      "  df.dropna(inplace=True)\n",
      "/var/folders/ng/zh2dm1jd1tq2yswfx0d4j2700000gn/T/ipykernel_37466/1463674606.py:4: SettingWithCopyWarning: \n",
      "A value is trying to be set on a copy of a slice from a DataFrame.\n",
      "Try using .loc[row_indexer,col_indexer] = value instead\n",
      "\n",
      "See the caveats in the documentation: https://pandas.pydata.org/pandas-docs/stable/user_guide/indexing.html#returning-a-view-versus-a-copy\n",
      "  df[\"strength\"] = df[\"strength\"].map({'0': \"Weak\", '1': \"Medium\",'2': \"Strong\"})\n"
     ]
    }
   ],
   "source": [
    "password_data = pd.read_csv(\"data.csv\")\n",
    "df = password_data[[\"password\", \"strength\"]]\n",
    "df.dropna(inplace=True)\n",
    "df[\"strength\"] = df[\"strength\"].map({'0': \"Weak\", '1': \"Medium\",'2': \"Strong\"})"
   ],
   "metadata": {
    "collapsed": false
   }
  },
  {
   "cell_type": "code",
   "execution_count": 26,
   "outputs": [
    {
     "data": {
      "text/plain": "            password strength\n0           kzde5577   Medium\n1           kino3434   Medium\n2          visi7k1yr   Medium\n3           megzy123   Medium\n4        lamborghin1   Medium\n...              ...      ...\n669873    10redtux10   Medium\n669874     infrared1   Medium\n669875  184520socram   Medium\n669876     marken22a   Medium\n669877      fxx4pw4g   Medium\n\n[669877 rows x 2 columns]",
      "text/html": "<div>\n<style scoped>\n    .dataframe tbody tr th:only-of-type {\n        vertical-align: middle;\n    }\n\n    .dataframe tbody tr th {\n        vertical-align: top;\n    }\n\n    .dataframe thead th {\n        text-align: right;\n    }\n</style>\n<table border=\"1\" class=\"dataframe\">\n  <thead>\n    <tr style=\"text-align: right;\">\n      <th></th>\n      <th>password</th>\n      <th>strength</th>\n    </tr>\n  </thead>\n  <tbody>\n    <tr>\n      <th>0</th>\n      <td>kzde5577</td>\n      <td>Medium</td>\n    </tr>\n    <tr>\n      <th>1</th>\n      <td>kino3434</td>\n      <td>Medium</td>\n    </tr>\n    <tr>\n      <th>2</th>\n      <td>visi7k1yr</td>\n      <td>Medium</td>\n    </tr>\n    <tr>\n      <th>3</th>\n      <td>megzy123</td>\n      <td>Medium</td>\n    </tr>\n    <tr>\n      <th>4</th>\n      <td>lamborghin1</td>\n      <td>Medium</td>\n    </tr>\n    <tr>\n      <th>...</th>\n      <td>...</td>\n      <td>...</td>\n    </tr>\n    <tr>\n      <th>669873</th>\n      <td>10redtux10</td>\n      <td>Medium</td>\n    </tr>\n    <tr>\n      <th>669874</th>\n      <td>infrared1</td>\n      <td>Medium</td>\n    </tr>\n    <tr>\n      <th>669875</th>\n      <td>184520socram</td>\n      <td>Medium</td>\n    </tr>\n    <tr>\n      <th>669876</th>\n      <td>marken22a</td>\n      <td>Medium</td>\n    </tr>\n    <tr>\n      <th>669877</th>\n      <td>fxx4pw4g</td>\n      <td>Medium</td>\n    </tr>\n  </tbody>\n</table>\n<p>669877 rows × 2 columns</p>\n</div>"
     },
     "execution_count": 26,
     "metadata": {},
     "output_type": "execute_result"
    }
   ],
   "source": [
    "df"
   ],
   "metadata": {
    "collapsed": false
   }
  },
  {
   "cell_type": "markdown",
   "source": [
    "### Data Cleaning: Remove NA values"
   ],
   "metadata": {
    "collapsed": false
   }
  },
  {
   "cell_type": "code",
   "execution_count": 27,
   "outputs": [
    {
     "data": {
      "text/plain": "password      0\nstrength    238\ndtype: int64"
     },
     "execution_count": 27,
     "metadata": {},
     "output_type": "execute_result"
    }
   ],
   "source": [
    "#check for na values in each column\n",
    "df.isna().sum()"
   ],
   "metadata": {
    "collapsed": false
   }
  },
  {
   "cell_type": "code",
   "execution_count": 28,
   "outputs": [
    {
     "name": "stderr",
     "output_type": "stream",
     "text": [
      "/var/folders/ng/zh2dm1jd1tq2yswfx0d4j2700000gn/T/ipykernel_37466/658506679.py:1: SettingWithCopyWarning: \n",
      "A value is trying to be set on a copy of a slice from a DataFrame\n",
      "\n",
      "See the caveats in the documentation: https://pandas.pydata.org/pandas-docs/stable/user_guide/indexing.html#returning-a-view-versus-a-copy\n",
      "  df.dropna(inplace=True)\n"
     ]
    }
   ],
   "source": [
    "df.dropna(inplace=True)"
   ],
   "metadata": {
    "collapsed": false
   }
  },
  {
   "cell_type": "code",
   "execution_count": 39,
   "outputs": [
    {
     "data": {
      "text/plain": "password    0\nstrength    0\ndtype: int64"
     },
     "execution_count": 39,
     "metadata": {},
     "output_type": "execute_result"
    }
   ],
   "source": [
    "# check for nas again\n",
    "\n",
    "df.isna().sum()\n",
    "#pwd_data = np.array(df)"
   ],
   "metadata": {
    "collapsed": false
   }
  },
  {
   "cell_type": "code",
   "execution_count": 41,
   "outputs": [],
   "source": [
    "# reduce data to 10000 rows due to computational constraints\n",
    "\n",
    "df = df.head(10000)"
   ],
   "metadata": {
    "collapsed": false
   }
  },
  {
   "cell_type": "markdown",
   "source": [
    "### Data Visualization"
   ],
   "metadata": {
    "collapsed": false
   }
  },
  {
   "cell_type": "code",
   "execution_count": 45,
   "outputs": [
    {
     "data": {
      "text/plain": "<AxesSubplot:>"
     },
     "execution_count": 45,
     "metadata": {},
     "output_type": "execute_result"
    },
    {
     "data": {
      "text/plain": "<Figure size 720x360 with 1 Axes>",
      "image/png": "[encoded data removed]"
     },
     "metadata": {
      "needs_background": "light"
     },
     "output_type": "display_data"
    }
   ],
   "source": [
    "import matplotlib.pyplot as plt\n",
    "\n",
    "fig = plt.figure(figsize = (10, 5))\n",
    "# df['category'].value_counts()\n",
    "df['strength'].value_counts().plot(kind='bar')\n",
    "# creating the bar plot\n",
    "# plt.bar(df[\"strength\"].value_counts, df[\"strength\"], color ='maroon',\n",
    "#         width = 0.4)\n",
    "#\n",
    "# plt.xlabel(\"Number of Passwords\")\n",
    "# plt.ylabel(\"Strength of passwords\")\n",
    "# plt.title(\"Data Visualization of Password Strength\")\n",
    "# plt.show()"
   ],
   "metadata": {
    "collapsed": false
   }
  },
  {
   "cell_type": "markdown",
   "source": [
    "### Tokenization and Vectorizer"
   ],
   "metadata": {
    "collapsed": false
   }
  },
  {
   "cell_type": "code",
   "execution_count": 31,
   "outputs": [],
   "source": [
    "#tokenize data\n",
    "\n",
    "def password_token(password):\n",
    "    character=[]\n",
    "    for i in password:\n",
    "        character.append(i)\n",
    "    return character\n",
    "\n",
    "x = np.array(df[\"password\"])\n",
    "y = np.array(df[\"strength\"])\n",
    "\n",
    "#convert text into vectors (numbers) using TFIDF vectorizer\n",
    "\n",
    "tdif = TfidfVectorizer(tokenizer=password_token)\n",
    "x = tdif.fit_transform(x)\n",
    "# x = x[~np.isnan(x)]\n",
    "# y= y[~np.isnan(y)]\n",
    "\n",
    "\n",
    "# Split data into training and testing\n",
    "\n",
    "xtrain, xtest, ytrain, ytest = train_test_split(x, y,\n",
    "                                                test_size=0.10,\n",
    "                                                random_state=42)\n",
    "# xtrain = np.nan_to_num(xtrain)\n",
    "# ytrain = np.nan_to_num(ytrain)\n",
    "# xtrain = xtrain.fillna(xtrain.mean())\n",
    "# ytrain = ytrain.fillna(xtrain.mean())\n",
    "\n",
    "#np.isnan(xtrain.values.any())"
   ],
   "metadata": {
    "collapsed": false
   }
  },
  {
   "cell_type": "code",
   "execution_count": 32,
   "outputs": [],
   "source": [
    "# np.where(xtrain.values >= np.finfo(np.float64).max)"
   ],
   "metadata": {
    "collapsed": false
   }
  },
  {
   "cell_type": "markdown",
   "source": [
    "### Use Random Forest"
   ],
   "metadata": {
    "collapsed": false
   }
  },
  {
   "cell_type": "code",
   "execution_count": 33,
   "outputs": [
    {
     "name": "stdout",
     "output_type": "stream",
     "text": [
      "0.891\n"
     ]
    }
   ],
   "source": [
    "random_forest_model = RandomForestClassifier()\n",
    "random_forest_model.fit(xtrain,ytrain)\n",
    "print(random_forest_model.score(xtest,ytest))"
   ],
   "metadata": {
    "collapsed": false
   }
  },
  {
   "cell_type": "markdown",
   "source": [
    "### Decision Tree Classifier"
   ],
   "metadata": {
    "collapsed": false
   }
  },
  {
   "cell_type": "code",
   "execution_count": 34,
   "outputs": [],
   "source": [
    "from sklearn.tree import DecisionTreeClassifier"
   ],
   "metadata": {
    "collapsed": false
   }
  },
  {
   "cell_type": "code",
   "execution_count": 35,
   "outputs": [],
   "source": [
    "clf=DecisionTreeClassifier()"
   ],
   "metadata": {
    "collapsed": false
   }
  },
  {
   "cell_type": "code",
   "execution_count": 36,
   "outputs": [
    {
     "data": {
      "text/plain": "DecisionTreeClassifier()"
     },
     "execution_count": 36,
     "metadata": {},
     "output_type": "execute_result"
    }
   ],
   "source": [
    "clf.fit(xtrain, ytrain)"
   ],
   "metadata": {
    "collapsed": false
   }
  },
  {
   "cell_type": "code",
   "execution_count": 37,
   "outputs": [
    {
     "name": "stdout",
     "output_type": "stream",
     "text": [
      "Accuracy : 0.844\n"
     ]
    }
   ],
   "source": [
    "print(\"Accuracy :\",clf.score(xtest, ytest))"
   ],
   "metadata": {
    "collapsed": false
   }
  },
  {
   "cell_type": "code",
   "execution_count": 38,
   "outputs": [],
   "source": [
    "a = 2\n"
   ],
   "metadata": {
    "collapsed": false
   }
  }
 ],
 "metadata": {
  "kernelspec": {
   "display_name": "Python 3",
   "language": "python",
   "name": "python3"
  },
  "language_info": {
   "codemirror_mode": {
    "name": "ipython",
    "version": 2
   },
   "file_extension": ".py",
   "mimetype": "text/x-python",
   "name": "python",
   "nbconvert_exporter": "python",
   "pygments_lexer": "ipython2",
   "version": "2.7.6"
  }
 },
 "nbformat": 4,
 "nbformat_minor": 0
}
